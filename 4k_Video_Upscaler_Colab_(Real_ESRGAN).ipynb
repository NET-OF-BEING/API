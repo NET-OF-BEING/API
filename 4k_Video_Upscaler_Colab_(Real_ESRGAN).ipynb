{
  "nbformat": 4,
  "nbformat_minor": 0,
  "metadata": {
    "colab": {
      "provenance": [],
      "gpuType": "T4",
      "toc_visible": true,
      "include_colab_link": true
    },
    "kernelspec": {
      "name": "python3",
      "display_name": "Python 3"
    },
    "language_info": {
      "name": "python"
    },
    "accelerator": "GPU"
  },
  "cells": [
    {
      "cell_type": "markdown",
      "metadata": {
        "id": "view-in-github",
        "colab_type": "text"
      },
      "source": [
        "<a href=\"https://colab.research.google.com/github/NET-OF-BEING/API/blob/master/4k_Video_Upscaler_Colab_(Real_ESRGAN).ipynb\" target=\"_parent\"><img src=\"https://colab.research.google.com/assets/colab-badge.svg\" alt=\"Open In Colab\"/></a>"
      ]
    },
    {
      "cell_type": "markdown",
      "source": [
        "# 4k Video Upscaler Colab (Real-ESRGAN)\n",
        "\n",
        "Adapted from: [Real-ESRGAN](https://github.com/xinntao/Real-ESRGAN)\n",
        "\n",
        "Made with ❤️ by: [yuvraj108c](https://github.com/yuvraj108c)\n",
        "\n",
        "Github repository: https://github.com/yuvraj108c/4k-video-upscaler-colab"
      ],
      "metadata": {
        "id": "zEksijsOSulF"
      }
    },
    {
      "cell_type": "markdown",
      "source": [
        "# 1. Setup (~1 minute)"
      ],
      "metadata": {
        "id": "Jt28DQ93QK5Z"
      }
    },
    {
      "cell_type": "code",
      "source": [
        "import torch\n",
        "assert torch.cuda.is_available(), \"GPU not detected.. Please change runtime to GPU\"\n",
        "\n",
        "from PIL import Image\n",
        "import cv2, os, subprocess\n",
        "from google.colab import drive\n",
        "from tqdm import tqdm\n",
        "\n",
        "!git clone https://github.com/xinntao/Real-ESRGAN.git\n",
        "%cd Real-ESRGAN\n",
        "\n",
        "!pip install -q torch==2.0.1 torchvision==0.15.2 --extra-index-url https://download.pytorch.org/whl/cu118\n",
        "!pip install -q basicsr facexlib gfpgan ffmpeg ffmpeg-python\n",
        "!pip install torch==2.6.0\n",
        "!pip install -q -r requirements.txt\n",
        "!python setup.py develop\n",
        "\n",
        "mount_drive=True #@param{type:\"boolean\"}\n",
        "\n",
        "if mount_drive:\n",
        "  drive.mount('/content/gdrive/')"
      ],
      "metadata": {
        "id": "kzcD1CMyQtbv",
        "outputId": "6b357dce-113c-499e-eff9-3fa180ee3b41",
        "colab": {
          "base_uri": "https://localhost:8080/",
          "height": 110
        }
      },
      "execution_count": 7,
      "outputs": [
        {
          "output_type": "error",
          "ename": "SyntaxError",
          "evalue": "invalid syntax (<ipython-input-7-2f31dc2488bf>, line 14)",
          "traceback": [
            "\u001b[0;36m  File \u001b[0;32m\"<ipython-input-7-2f31dc2488bf>\"\u001b[0;36m, line \u001b[0;32m14\u001b[0m\n\u001b[0;31m    pip install torch==2.6.0\u001b[0m\n\u001b[0m        ^\u001b[0m\n\u001b[0;31mSyntaxError\u001b[0m\u001b[0;31m:\u001b[0m invalid syntax\n"
          ]
        }
      ]
    },
    {
      "cell_type": "markdown",
      "source": [
        "# 2. Upscale video\n",
        "\n",
        "- The upscaled video will be saved to `output_dir`\n",
        "- If google drive is mounted, it will be also saved at `MyDrive/Upscaled Videos (REAL-ESRGAN)`\n"
      ],
      "metadata": {
        "id": "mZZPG007SB4A"
      }
    },
    {
      "cell_type": "code",
      "execution_count": 5,
      "metadata": {
        "id": "NX2v5PH9O7Sw",
        "outputId": "820b6a24-0f73-4f5b-95fe-34a97baef3a2",
        "colab": {
          "base_uri": "https://localhost:8080/"
        }
      },
      "outputs": [
        {
          "output_type": "stream",
          "name": "stdout",
          "text": [
            "Upscaling from 1920x1080 to 3840x2160, scale_factor=2.0\n",
            "\n",
            "A module that was compiled using NumPy 1.x cannot be run in\n",
            "NumPy 2.0.2 as it may crash. To support both 1.x and 2.x\n",
            "versions of NumPy, modules must be compiled with NumPy 2.0.\n",
            "Some module may need to rebuild instead e.g. with 'pybind11>=2.12'.\n",
            "\n",
            "If you are a user of the module, the easiest solution will be to\n",
            "downgrade to 'numpy<2' or try to upgrade the affected module.\n",
            "We expect that some modules will need time to support NumPy 2.\n",
            "\n",
            "Traceback (most recent call last):  File \"/content/Real-ESRGAN/inference_realesrgan_video.py\", line 10, in <module>\n",
            "    from basicsr.archs.rrdbnet_arch import RRDBNet\n",
            "  File \"/usr/local/lib/python3.11/dist-packages/basicsr/__init__.py\", line 3, in <module>\n",
            "    from .archs import *\n",
            "  File \"/usr/local/lib/python3.11/dist-packages/basicsr/archs/__init__.py\", line 5, in <module>\n",
            "    from basicsr.utils import get_root_logger, scandir\n",
            "  File \"/usr/local/lib/python3.11/dist-packages/basicsr/utils/__init__.py\", line 2, in <module>\n",
            "    from .diffjpeg import DiffJPEG\n",
            "  File \"/usr/local/lib/python3.11/dist-packages/basicsr/utils/diffjpeg.py\", line 19, in <module>\n",
            "    y_table = nn.Parameter(torch.from_numpy(y_table))\n",
            "/usr/local/lib/python3.11/dist-packages/basicsr/utils/diffjpeg.py:19: UserWarning: Failed to initialize NumPy: _ARRAY_API not found (Triggered internally at ../torch/csrc/utils/tensor_numpy.cpp:84.)\n",
            "  y_table = nn.Parameter(torch.from_numpy(y_table))\n",
            "Traceback (most recent call last):\n",
            "  File \"/content/Real-ESRGAN/inference_realesrgan_video.py\", line 10, in <module>\n",
            "    from basicsr.archs.rrdbnet_arch import RRDBNet\n",
            "  File \"/usr/local/lib/python3.11/dist-packages/basicsr/__init__.py\", line 3, in <module>\n",
            "    from .archs import *\n",
            "  File \"/usr/local/lib/python3.11/dist-packages/basicsr/archs/__init__.py\", line 5, in <module>\n",
            "    from basicsr.utils import get_root_logger, scandir\n",
            "  File \"/usr/local/lib/python3.11/dist-packages/basicsr/utils/__init__.py\", line 2, in <module>\n",
            "    from .diffjpeg import DiffJPEG\n",
            "  File \"/usr/local/lib/python3.11/dist-packages/basicsr/utils/diffjpeg.py\", line 19, in <module>\n",
            "    y_table = nn.Parameter(torch.from_numpy(y_table))\n",
            "                           ^^^^^^^^^^^^^^^^^^^^^^^^^\n",
            "RuntimeError: Numpy is not available\n",
            "Cropping to fit...\n",
            "Upscaled video saved to: /content/DerekJess_upscaled_3840_2160.mp4\n",
            "Saved to drive: /MyDrive/Upscaled Videos (REAL-ESRGAN)/DerekJess_upscaled_3840_2160.mp4\n",
            "rm: cannot remove '/content/DerekJess_out.mp4': No such file or directory\n"
          ]
        }
      ],
      "source": [
        "video_path=\"/content/Real-ESRGAN/DerekJess.mp4\" #@param{type:\"string\"}\n",
        "output_dir=\"/content/\" #@param{type:\"string\"}\n",
        "resolution = \"4k (3840 x 2160)\" # @param [\"FHD (1920 x 1080)\", \"2k (2560 x 1440)\", \"4k (3840 x 2160)\",\"2 x original\", \"3 x original\", \"4 x original\"] {type:\"string\"}\n",
        "model = \"RealESRGAN_x4plus\" #@param [\"RealESRGAN_x4plus\" , \"RealESRGAN_x4plus_anime_6B\", \"realesr-animevideov3\"]\n",
        "\n",
        "assert os.path.exists(video_path), \"Video file does not exist\"\n",
        "\n",
        "video_capture = cv2.VideoCapture(video_path)\n",
        "video_width = int(video_capture.get(cv2.CAP_PROP_FRAME_WIDTH))\n",
        "video_height = int(video_capture.get(cv2.CAP_PROP_FRAME_HEIGHT))\n",
        "\n",
        "final_width = None\n",
        "final_height = None\n",
        "aspect_ratio = float(video_width/video_height)\n",
        "\n",
        "# Get output resolutions\n",
        "match resolution:\n",
        "  case \"FHD (1920 x 1080)\":\n",
        "    final_width=1920\n",
        "    final_height=1080\n",
        "  case \"2k (2560 x 1440)\":\n",
        "    final_width=2560\n",
        "    final_height=1440\n",
        "  case \"4k (3840 x 2160)\":\n",
        "    final_width=3840\n",
        "    final_height=2160\n",
        "  case \"2 x original\":\n",
        "    final_width=2*video_width\n",
        "    final_height=2*video_height\n",
        "  case \"3 x original\":\n",
        "    final_width=3*video_width\n",
        "    final_height=3*video_height\n",
        "  case \"4 x original\":\n",
        "    final_width=4*video_width\n",
        "    final_height=4*video_height\n",
        "\n",
        "if aspect_ratio == 1.0 and \"original\" not in resolution:\n",
        "  final_height = final_width\n",
        "\n",
        "if aspect_ratio < 1.0 and \"original\" not in resolution:\n",
        "  temp = final_width\n",
        "  final_width = final_height\n",
        "  final_height = temp\n",
        "\n",
        "scale_factor = max(final_width/video_width, final_height/video_height)\n",
        "isEven = int(video_width * scale_factor) % 2 == 0 and int(video_height * scale_factor) % 2 == 0\n",
        "\n",
        "# scale_factor needs to be even\n",
        "while isEven == False:\n",
        "  scale_factor += 0.01\n",
        "  isEven = int(video_width * scale_factor) % 2 == 0 and int(video_height * scale_factor) % 2 == 0\n",
        "\n",
        "print(f\"Upscaling from {video_width}x{video_height} to {final_width}x{final_height}, scale_factor={scale_factor}\")\n",
        "\n",
        "!python inference_realesrgan_video.py -n {model} -i '{video_path}' -o '{output_dir}' --outscale {scale_factor}\n",
        "\n",
        "video_name_with_ext = os.path.basename(video_path)\n",
        "video_name = video_name_with_ext.replace(\".mp4\",\"\")\n",
        "upscaled_video_path = f\"{output_dir}{video_name}_out.mp4\"\n",
        "final_video_name = f\"{video_name}_upscaled_{final_width}_{final_height}.mp4\"\n",
        "final_video_path = os.path.join(output_dir, final_video_name)\n",
        "\n",
        "# crop to fit\n",
        "if \"original\" not in resolution:\n",
        "  print(\"Cropping to fit...\")\n",
        "  command = f\"ffmpeg -loglevel error -hwaccel cuda -y -i '{upscaled_video_path}' -c:v h264_nvenc -filter:v  'crop={final_width}:{final_height}:(in_w-{final_width})/2:(in_h-{final_height})/2' -c:v libx264 -pix_fmt yuv420p '{final_video_path}'\"\n",
        "  subprocess.run(command,shell=True)\n",
        "\n",
        "print(f\"Upscaled video saved to: {final_video_path}\")\n",
        "\n",
        "# save to drive\n",
        "if mount_drive:\n",
        "  drive_folder = \"MyDrive/Upscaled Videos (REAL-ESRGAN)\"\n",
        "  save_directory_drive = f\"/content/gdrive/{drive_folder}\"\n",
        "  os.makedirs(save_directory_drive, exist_ok=True)\n",
        "\n",
        "  command = f\"'{final_video_path}' '{save_directory_drive}'/'{final_video_name}'\"\n",
        "  subprocess.run(command,shell=True)\n",
        "  print(f\"Saved to drive: /{drive_folder}/{final_video_name}\" )\n",
        "\n",
        "!rm \"{upscaled_video_path}\""
      ]
    },
    {
      "cell_type": "markdown",
      "source": [
        "# 3. Disconnect runtime"
      ],
      "metadata": {
        "id": "XydAN-xZT0AS"
      }
    },
    {
      "cell_type": "code",
      "source": [
        "from google.colab import runtime\n",
        "\n",
        "disconnect_when_finish = True  #@param{type:\"boolean\"}\n",
        "\n",
        "if disconnect_when_finish:\n",
        "  runtime.unassign()"
      ],
      "metadata": {
        "id": "rIfUT_e9TqLp"
      },
      "execution_count": 3,
      "outputs": []
    }
  ]
}